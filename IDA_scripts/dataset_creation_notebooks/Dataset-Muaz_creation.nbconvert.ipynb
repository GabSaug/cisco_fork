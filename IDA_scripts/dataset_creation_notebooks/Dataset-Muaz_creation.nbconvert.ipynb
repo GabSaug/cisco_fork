{
 "cells": [
  {
   "cell_type": "code",
   "execution_count": 1,
   "id": "sharing-philosophy",
   "metadata": {
    "execution": {
     "iopub.execute_input": "2023-07-11T14:33:24.744827Z",
     "iopub.status.busy": "2023-07-11T14:33:24.744432Z",
     "iopub.status.idle": "2023-07-11T14:33:24.749465Z",
     "shell.execute_reply": "2023-07-11T14:33:24.748958Z"
    }
   },
   "outputs": [],
   "source": [
    "##############################################################################\n",
    "#                                                                            #\n",
    "#  Code for the USENIX Security '22 paper:                                   #\n",
    "#  How Machine Learning Is Solving the Binary Function Similarity Problem.   #\n",
    "#                                                                            #\n",
    "#  MIT License                                                               #\n",
    "#                                                                            #\n",
    "#  Copyright (c) 2019-2022 Cisco Talos                                       #\n",
    "#                                                                            #\n",
    "#  Permission is hereby granted, free of charge, to any person obtaining     #\n",
    "#  a copy of this software and associated documentation files (the           #\n",
    "#  \"Software\"), to deal in the Software without restriction, including       #\n",
    "#  without limitation the rights to use, copy, modify, merge, publish,       #\n",
    "#  distribute, sublicense, and/or sell copies of the Software, and to        #\n",
    "#  permit persons to whom the Software is furnished to do so, subject to     #\n",
    "#  the following conditions:                                                 #\n",
    "#                                                                            #\n",
    "#  The above copyright notice and this permission notice shall be            #\n",
    "#  included in all copies or substantial portions of the Software.           #\n",
    "#                                                                            #\n",
    "#  THE SOFTWARE IS PROVIDED \"AS IS\", WITHOUT WARRANTY OF ANY KIND,           #\n",
    "#  EXPRESS OR IMPLIED, INCLUDING BUT NOT LIMITED TO THE WARRANTIES OF        #\n",
    "#  MERCHANTABILITY, FITNESS FOR A PARTICULAR PURPOSE AND                     #\n",
    "#  NONINFRINGEMENT. IN NO EVENT SHALL THE AUTHORS OR COPYRIGHT HOLDERS BE    #\n",
    "#  LIABLE FOR ANY CLAIM, DAMAGES OR OTHER LIABILITY, WHETHER IN AN ACTION    #\n",
    "#  OF CONTRACT, TORT OR OTHERWISE, ARISING FROM, OUT OF OR IN CONNECTION     #\n",
    "#  WITH THE SOFTWARE OR THE USE OR OTHER DEALINGS IN THE SOFTWARE.           #\n",
    "#                                                                            #\n",
    "#  Dataset-Vulnerability creation                                            #\n",
    "#                                                                            #\n",
    "##############################################################################"
   ]
  },
  {
   "cell_type": "code",
   "execution_count": 2,
   "id": "e9c69896",
   "metadata": {
    "execution": {
     "iopub.execute_input": "2023-07-11T14:33:24.751776Z",
     "iopub.status.busy": "2023-07-11T14:33:24.751668Z",
     "iopub.status.idle": "2023-07-11T14:33:24.753801Z",
     "shell.execute_reply": "2023-07-11T14:33:24.753230Z"
    }
   },
   "outputs": [],
   "source": [
    "## Requirements\n",
    "# tqdm==4.64.0\n",
    "# pandas==1.4.2"
   ]
  },
  {
   "cell_type": "code",
   "execution_count": 3,
   "id": "bright-facility",
   "metadata": {
    "execution": {
     "iopub.execute_input": "2023-07-11T14:33:24.755802Z",
     "iopub.status.busy": "2023-07-11T14:33:24.755696Z",
     "iopub.status.idle": "2023-07-11T14:33:24.970405Z",
     "shell.execute_reply": "2023-07-11T14:33:24.969908Z"
    }
   },
   "outputs": [],
   "source": [
    "import json\n",
    "import pandas as pd\n",
    "import itertools\n",
    "\n",
    "from tqdm import tqdm"
   ]
  },
  {
   "cell_type": "markdown",
   "id": "worst-certificate",
   "metadata": {},
   "source": [
    "**Read the flowchart CSV**"
   ]
  },
  {
   "cell_type": "code",
   "execution_count": 4,
   "id": "featured-composer",
   "metadata": {
    "execution": {
     "iopub.execute_input": "2023-07-11T14:33:24.972225Z",
     "iopub.status.busy": "2023-07-11T14:33:24.972061Z",
     "iopub.status.idle": "2023-07-11T14:33:24.984751Z",
     "shell.execute_reply": "2023-07-11T14:33:24.984292Z"
    }
   },
   "outputs": [
    {
     "name": "stdout",
     "output_type": "stream",
     "text": [
      "(2412, 8)\n"
     ]
    }
   ],
   "source": [
    "flowchart = pd.read_csv(\"../../DBs/Dataset-Muaz/features/flowchart_Dataset-Muaz.csv\")\n",
    "print(flowchart.shape)"
   ]
  },
  {
   "cell_type": "code",
   "execution_count": 5,
   "id": "subject-pharmaceutical",
   "metadata": {
    "execution": {
     "iopub.execute_input": "2023-07-11T14:33:24.986833Z",
     "iopub.status.busy": "2023-07-11T14:33:24.986716Z",
     "iopub.status.idle": "2023-07-11T14:33:24.997326Z",
     "shell.execute_reply": "2023-07-11T14:33:24.997034Z"
    }
   },
   "outputs": [
    {
     "data": {
      "text/html": [
       "<div>\n",
       "<style scoped>\n",
       "    .dataframe tbody tr th:only-of-type {\n",
       "        vertical-align: middle;\n",
       "    }\n",
       "\n",
       "    .dataframe tbody tr th {\n",
       "        vertical-align: top;\n",
       "    }\n",
       "\n",
       "    .dataframe thead th {\n",
       "        text-align: right;\n",
       "    }\n",
       "</style>\n",
       "<table border=\"1\" class=\"dataframe\">\n",
       "  <thead>\n",
       "    <tr style=\"text-align: right;\">\n",
       "      <th></th>\n",
       "      <th>idb_path</th>\n",
       "      <th>fva</th>\n",
       "      <th>func_name</th>\n",
       "      <th>start_ea</th>\n",
       "      <th>end_ea</th>\n",
       "      <th>bb_num</th>\n",
       "      <th>bb_list</th>\n",
       "      <th>hashopcodes</th>\n",
       "    </tr>\n",
       "  </thead>\n",
       "  <tbody>\n",
       "    <tr>\n",
       "      <th>0</th>\n",
       "      <td>IDBs/Dataset-Muaz/openssl.i64</td>\n",
       "      <td>0x43470</td>\n",
       "      <td>__do_global_dtors_aux</td>\n",
       "      <td>0x43470</td>\n",
       "      <td>0x434a9</td>\n",
       "      <td>5</td>\n",
       "      <td>0x43470;0x4347d;0x4348b;0x43497;0x434a8</td>\n",
       "      <td>7ba892443ac4fab9631507cc72221283b80b73025445fa...</td>\n",
       "    </tr>\n",
       "    <tr>\n",
       "      <th>1</th>\n",
       "      <td>IDBs/Dataset-Muaz/openssl.i64</td>\n",
       "      <td>0x435ad</td>\n",
       "      <td>mock_srv_ctx_new</td>\n",
       "      <td>0x435ad</td>\n",
       "      <td>0x4361b</td>\n",
       "      <td>7</td>\n",
       "      <td>0x435ad;0x435d9;0x435f3;0x43604;0x43607;0x4360...</td>\n",
       "      <td>35b3f7e1a77c54606741d8ce4c11a8b060a0a82c1db1bf...</td>\n",
       "    </tr>\n",
       "    <tr>\n",
       "      <th>2</th>\n",
       "      <td>IDBs/Dataset-Muaz/openssl.i64</td>\n",
       "      <td>0x4361b</td>\n",
       "      <td>ossl_cmp_mock_srv_set1_refCert</td>\n",
       "      <td>0x4361b</td>\n",
       "      <td>0x436c4</td>\n",
       "      <td>7</td>\n",
       "      <td>0x4361b;0x43642;0x43685;0x4368c;0x4369c;0x436b...</td>\n",
       "      <td>ecc80d570dbd9e6cf8c81241c385e1d827816eafed1a46...</td>\n",
       "    </tr>\n",
       "    <tr>\n",
       "      <th>3</th>\n",
       "      <td>IDBs/Dataset-Muaz/openssl.i64</td>\n",
       "      <td>0x436c4</td>\n",
       "      <td>ossl_cmp_mock_srv_set1_certOut</td>\n",
       "      <td>0x436c4</td>\n",
       "      <td>0x4376f</td>\n",
       "      <td>7</td>\n",
       "      <td>0x436c4;0x436eb;0x4372e;0x43735;0x43745;0x4376...</td>\n",
       "      <td>ecc80d570dbd9e6cf8c81241c385e1d827816eafed1a46...</td>\n",
       "    </tr>\n",
       "    <tr>\n",
       "      <th>4</th>\n",
       "      <td>IDBs/Dataset-Muaz/openssl.i64</td>\n",
       "      <td>0x4376f</td>\n",
       "      <td>ossl_cmp_mock_srv_set1_chainOut</td>\n",
       "      <td>0x4376f</td>\n",
       "      <td>0x43829</td>\n",
       "      <td>7</td>\n",
       "      <td>0x4376f;0x4379e;0x437e1;0x437e8;0x437ff;0x4380...</td>\n",
       "      <td>2ec40fa09fee375d30a5d6ccb8104c1dbf9cc539ed9d39...</td>\n",
       "    </tr>\n",
       "  </tbody>\n",
       "</table>\n",
       "</div>"
      ],
      "text/plain": [
       "                        idb_path      fva                        func_name  \\\n",
       "0  IDBs/Dataset-Muaz/openssl.i64  0x43470            __do_global_dtors_aux   \n",
       "1  IDBs/Dataset-Muaz/openssl.i64  0x435ad                 mock_srv_ctx_new   \n",
       "2  IDBs/Dataset-Muaz/openssl.i64  0x4361b   ossl_cmp_mock_srv_set1_refCert   \n",
       "3  IDBs/Dataset-Muaz/openssl.i64  0x436c4   ossl_cmp_mock_srv_set1_certOut   \n",
       "4  IDBs/Dataset-Muaz/openssl.i64  0x4376f  ossl_cmp_mock_srv_set1_chainOut   \n",
       "\n",
       "  start_ea   end_ea  bb_num  \\\n",
       "0  0x43470  0x434a9       5   \n",
       "1  0x435ad  0x4361b       7   \n",
       "2  0x4361b  0x436c4       7   \n",
       "3  0x436c4  0x4376f       7   \n",
       "4  0x4376f  0x43829       7   \n",
       "\n",
       "                                             bb_list  \\\n",
       "0            0x43470;0x4347d;0x4348b;0x43497;0x434a8   \n",
       "1  0x435ad;0x435d9;0x435f3;0x43604;0x43607;0x4360...   \n",
       "2  0x4361b;0x43642;0x43685;0x4368c;0x4369c;0x436b...   \n",
       "3  0x436c4;0x436eb;0x4372e;0x43735;0x43745;0x4376...   \n",
       "4  0x4376f;0x4379e;0x437e1;0x437e8;0x437ff;0x4380...   \n",
       "\n",
       "                                         hashopcodes  \n",
       "0  7ba892443ac4fab9631507cc72221283b80b73025445fa...  \n",
       "1  35b3f7e1a77c54606741d8ce4c11a8b060a0a82c1db1bf...  \n",
       "2  ecc80d570dbd9e6cf8c81241c385e1d827816eafed1a46...  \n",
       "3  ecc80d570dbd9e6cf8c81241c385e1d827816eafed1a46...  \n",
       "4  2ec40fa09fee375d30a5d6ccb8104c1dbf9cc539ed9d39...  "
      ]
     },
     "execution_count": 5,
     "metadata": {},
     "output_type": "execute_result"
    }
   ],
   "source": [
    "flowchart.head()"
   ]
  },
  {
   "cell_type": "code",
   "execution_count": 6,
   "id": "intermediate-transition",
   "metadata": {
    "execution": {
     "iopub.execute_input": "2023-07-11T14:33:24.999440Z",
     "iopub.status.busy": "2023-07-11T14:33:24.998893Z",
     "iopub.status.idle": "2023-07-11T14:33:25.008273Z",
     "shell.execute_reply": "2023-07-11T14:33:25.008002Z"
    },
    "scrolled": false
   },
   "outputs": [
    {
     "data": {
      "text/html": [
       "<div>\n",
       "<style scoped>\n",
       "    .dataframe tbody tr th:only-of-type {\n",
       "        vertical-align: middle;\n",
       "    }\n",
       "\n",
       "    .dataframe tbody tr th {\n",
       "        vertical-align: top;\n",
       "    }\n",
       "\n",
       "    .dataframe thead th {\n",
       "        text-align: right;\n",
       "    }\n",
       "</style>\n",
       "<table border=\"1\" class=\"dataframe\">\n",
       "  <thead>\n",
       "    <tr style=\"text-align: right;\">\n",
       "      <th></th>\n",
       "      <th>idb_path</th>\n",
       "      <th>fva</th>\n",
       "      <th>start_ea</th>\n",
       "      <th>end_ea</th>\n",
       "      <th>bb_num</th>\n",
       "      <th>bb_list</th>\n",
       "      <th>hashopcodes</th>\n",
       "    </tr>\n",
       "    <tr>\n",
       "      <th>func_name</th>\n",
       "      <th></th>\n",
       "      <th></th>\n",
       "      <th></th>\n",
       "      <th></th>\n",
       "      <th></th>\n",
       "      <th></th>\n",
       "      <th></th>\n",
       "    </tr>\n",
       "  </thead>\n",
       "  <tbody>\n",
       "    <tr>\n",
       "      <th>DSA_sign_loop</th>\n",
       "      <td>3</td>\n",
       "      <td>3</td>\n",
       "      <td>3</td>\n",
       "      <td>3</td>\n",
       "      <td>3</td>\n",
       "      <td>3</td>\n",
       "      <td>3</td>\n",
       "    </tr>\n",
       "    <tr>\n",
       "      <th>DSA_verify_loop</th>\n",
       "      <td>3</td>\n",
       "      <td>3</td>\n",
       "      <td>3</td>\n",
       "      <td>3</td>\n",
       "      <td>3</td>\n",
       "      <td>3</td>\n",
       "      <td>3</td>\n",
       "    </tr>\n",
       "    <tr>\n",
       "      <th>ECDH_EVP_derive_key_loop</th>\n",
       "      <td>3</td>\n",
       "      <td>3</td>\n",
       "      <td>3</td>\n",
       "      <td>3</td>\n",
       "      <td>3</td>\n",
       "      <td>3</td>\n",
       "      <td>3</td>\n",
       "    </tr>\n",
       "    <tr>\n",
       "      <th>ECDSA_sign_loop</th>\n",
       "      <td>3</td>\n",
       "      <td>3</td>\n",
       "      <td>3</td>\n",
       "      <td>3</td>\n",
       "      <td>3</td>\n",
       "      <td>3</td>\n",
       "      <td>3</td>\n",
       "    </tr>\n",
       "    <tr>\n",
       "      <th>ECDSA_verify_loop</th>\n",
       "      <td>3</td>\n",
       "      <td>3</td>\n",
       "      <td>3</td>\n",
       "      <td>3</td>\n",
       "      <td>3</td>\n",
       "      <td>3</td>\n",
       "      <td>3</td>\n",
       "    </tr>\n",
       "    <tr>\n",
       "      <th>...</th>\n",
       "      <td>...</td>\n",
       "      <td>...</td>\n",
       "      <td>...</td>\n",
       "      <td>...</td>\n",
       "      <td>...</td>\n",
       "      <td>...</td>\n",
       "      <td>...</td>\n",
       "    </tr>\n",
       "    <tr>\n",
       "      <th>x509_load_serial</th>\n",
       "      <td>3</td>\n",
       "      <td>3</td>\n",
       "      <td>3</td>\n",
       "      <td>3</td>\n",
       "      <td>3</td>\n",
       "      <td>3</td>\n",
       "      <td>3</td>\n",
       "    </tr>\n",
       "    <tr>\n",
       "      <th>x509_main</th>\n",
       "      <td>3</td>\n",
       "      <td>3</td>\n",
       "      <td>3</td>\n",
       "      <td>3</td>\n",
       "      <td>3</td>\n",
       "      <td>3</td>\n",
       "      <td>3</td>\n",
       "    </tr>\n",
       "    <tr>\n",
       "      <th>x509_req_ctrl</th>\n",
       "      <td>3</td>\n",
       "      <td>3</td>\n",
       "      <td>3</td>\n",
       "      <td>3</td>\n",
       "      <td>3</td>\n",
       "      <td>3</td>\n",
       "      <td>3</td>\n",
       "    </tr>\n",
       "    <tr>\n",
       "      <th>x509_to_req</th>\n",
       "      <td>3</td>\n",
       "      <td>3</td>\n",
       "      <td>3</td>\n",
       "      <td>3</td>\n",
       "      <td>3</td>\n",
       "      <td>3</td>\n",
       "      <td>3</td>\n",
       "    </tr>\n",
       "    <tr>\n",
       "      <th>xferinfo_cb</th>\n",
       "      <td>6</td>\n",
       "      <td>6</td>\n",
       "      <td>6</td>\n",
       "      <td>6</td>\n",
       "      <td>6</td>\n",
       "      <td>6</td>\n",
       "      <td>6</td>\n",
       "    </tr>\n",
       "  </tbody>\n",
       "</table>\n",
       "<p>654 rows × 7 columns</p>\n",
       "</div>"
      ],
      "text/plain": [
       "                          idb_path  fva  start_ea  end_ea  bb_num  bb_list  \\\n",
       "func_name                                                                    \n",
       "DSA_sign_loop                    3    3         3       3       3        3   \n",
       "DSA_verify_loop                  3    3         3       3       3        3   \n",
       "ECDH_EVP_derive_key_loop         3    3         3       3       3        3   \n",
       "ECDSA_sign_loop                  3    3         3       3       3        3   \n",
       "ECDSA_verify_loop                3    3         3       3       3        3   \n",
       "...                            ...  ...       ...     ...     ...      ...   \n",
       "x509_load_serial                 3    3         3       3       3        3   \n",
       "x509_main                        3    3         3       3       3        3   \n",
       "x509_req_ctrl                    3    3         3       3       3        3   \n",
       "x509_to_req                      3    3         3       3       3        3   \n",
       "xferinfo_cb                      6    6         6       6       6        6   \n",
       "\n",
       "                          hashopcodes  \n",
       "func_name                              \n",
       "DSA_sign_loop                       3  \n",
       "DSA_verify_loop                     3  \n",
       "ECDH_EVP_derive_key_loop            3  \n",
       "ECDSA_sign_loop                     3  \n",
       "ECDSA_verify_loop                   3  \n",
       "...                               ...  \n",
       "x509_load_serial                    3  \n",
       "x509_main                           3  \n",
       "x509_req_ctrl                       3  \n",
       "x509_to_req                         3  \n",
       "xferinfo_cb                         6  \n",
       "\n",
       "[654 rows x 7 columns]"
      ]
     },
     "execution_count": 6,
     "metadata": {},
     "output_type": "execute_result"
    }
   ],
   "source": [
    "flowchart.groupby(['func_name']).count()"
   ]
  },
  {
   "cell_type": "code",
   "execution_count": 7,
   "id": "ddc5224b",
   "metadata": {
    "execution": {
     "iopub.execute_input": "2023-07-11T14:33:25.010182Z",
     "iopub.status.busy": "2023-07-11T14:33:25.009665Z",
     "iopub.status.idle": "2023-07-11T14:33:25.014762Z",
     "shell.execute_reply": "2023-07-11T14:33:25.014487Z"
    }
   },
   "outputs": [
    {
     "data": {
      "text/html": [
       "<div>\n",
       "<style scoped>\n",
       "    .dataframe tbody tr th:only-of-type {\n",
       "        vertical-align: middle;\n",
       "    }\n",
       "\n",
       "    .dataframe tbody tr th {\n",
       "        vertical-align: top;\n",
       "    }\n",
       "\n",
       "    .dataframe thead th {\n",
       "        text-align: right;\n",
       "    }\n",
       "</style>\n",
       "<table border=\"1\" class=\"dataframe\">\n",
       "  <thead>\n",
       "    <tr style=\"text-align: right;\">\n",
       "      <th></th>\n",
       "      <th>idb_path</th>\n",
       "      <th>fva</th>\n",
       "      <th>func_name</th>\n",
       "      <th>start_ea</th>\n",
       "      <th>end_ea</th>\n",
       "      <th>bb_num</th>\n",
       "      <th>bb_list</th>\n",
       "      <th>hashopcodes</th>\n",
       "    </tr>\n",
       "  </thead>\n",
       "  <tbody>\n",
       "  </tbody>\n",
       "</table>\n",
       "</div>"
      ],
      "text/plain": [
       "Empty DataFrame\n",
       "Columns: [idb_path, fva, func_name, start_ea, end_ea, bb_num, bb_list, hashopcodes]\n",
       "Index: []"
      ]
     },
     "execution_count": 7,
     "metadata": {},
     "output_type": "execute_result"
    }
   ],
   "source": [
    "flowchart.loc[flowchart['func_name'] == 'getMatrixElements']"
   ]
  },
  {
   "cell_type": "markdown",
   "id": "e622b21b",
   "metadata": {},
   "source": [
    "**Functions of interest**"
   ]
  },
  {
   "cell_type": "code",
   "execution_count": 8,
   "id": "bf1bccdd",
   "metadata": {
    "execution": {
     "iopub.execute_input": "2023-07-11T14:33:25.016638Z",
     "iopub.status.busy": "2023-07-11T14:33:25.016143Z",
     "iopub.status.idle": "2023-07-11T14:33:25.020435Z",
     "shell.execute_reply": "2023-07-11T14:33:25.020167Z"
    }
   },
   "outputs": [],
   "source": [
    "fun_of_interest = list(flowchart['func_name'])\n",
    "fun_of_interest = [\n",
    "    'slist_wc_append',\n",
    "    'ssl_srp_verify_param_cb',\n",
    "    'notef',\n",
    "    'app_create_libctx',\n",
    "    'tool_set_stderr'\n",
    "]\n",
    "selected_columns = ['idb_path', 'fva', 'func_name', 'hashopcodes']\n",
    "\n",
    "df0 = flowchart[selected_columns]\n",
    "df = df0.loc[df0['func_name'].isin(fun_of_interest)]\n",
    "\n",
    "\n",
    "# Store the new function pairs\n",
    "df.reset_index(inplace=True)\n",
    "pairs = list(itertools.combinations(df.index,2))\n",
    "df = df.drop('index', axis=1)"
   ]
  },
  {
   "cell_type": "markdown",
   "id": "amber-technique",
   "metadata": {},
   "source": [
    "**Create all pairs of all functions of interest**"
   ]
  },
  {
   "cell_type": "code",
   "execution_count": 9,
   "id": "finished-multiple",
   "metadata": {
    "execution": {
     "iopub.execute_input": "2023-07-11T14:33:25.022747Z",
     "iopub.status.busy": "2023-07-11T14:33:25.022579Z",
     "iopub.status.idle": "2023-07-11T14:33:25.033382Z",
     "shell.execute_reply": "2023-07-11T14:33:25.033124Z"
    }
   },
   "outputs": [
    {
     "name": "stdout",
     "output_type": "stream",
     "text": [
      "Nb of fun: 18\n"
     ]
    },
    {
     "name": "stderr",
     "output_type": "stream",
     "text": [
      "100%|████████████████████████████████████████████████████████████████████████████████████████████████████████████████████████████████████| 153/153 [00:00<00:00, 26308.97it/s]\n"
     ]
    }
   ],
   "source": [
    "comparison_list = list()\n",
    "print(\"Nb of fun: {}\".format(len(df)))\n",
    "\n",
    "# Iterate over each unique pair of function in the list\n",
    "\n",
    "for f1,f2 in tqdm(set(pairs)):\n",
    "    comparison_list.append(list(df.iloc[f1]) + list(df.iloc[f2]))"
   ]
  },
  {
   "cell_type": "code",
   "execution_count": 10,
   "id": "overhead-singing",
   "metadata": {
    "execution": {
     "iopub.execute_input": "2023-07-11T14:33:25.035511Z",
     "iopub.status.busy": "2023-07-11T14:33:25.035338Z",
     "iopub.status.idle": "2023-07-11T14:33:25.037578Z",
     "shell.execute_reply": "2023-07-11T14:33:25.037332Z"
    }
   },
   "outputs": [
    {
     "data": {
      "text/plain": [
       "['IDBs/Dataset-Muaz/openssl.i64',\n",
       " '0xc5c77',\n",
       " 'ssl_srp_verify_param_cb',\n",
       " 'df990f329828536fdaee29c544ddbc5fae6407842325b926c78405274d6747fc',\n",
       " 'IDBs/Dataset-Muaz/curl.i64',\n",
       " '0x1ba7a',\n",
       " 'notef',\n",
       " '33bccf5039d336dce50f0dbc3dba165e74eaf31508ce829c5bfc41ad03ba234e']"
      ]
     },
     "execution_count": 10,
     "metadata": {},
     "output_type": "execute_result"
    }
   ],
   "source": [
    "comparison_list[0]"
   ]
  },
  {
   "cell_type": "code",
   "execution_count": 11,
   "id": "aed7043a",
   "metadata": {
    "execution": {
     "iopub.execute_input": "2023-07-11T14:33:25.038802Z",
     "iopub.status.busy": "2023-07-11T14:33:25.038633Z",
     "iopub.status.idle": "2023-07-11T14:33:25.041087Z",
     "shell.execute_reply": "2023-07-11T14:33:25.040610Z"
    }
   },
   "outputs": [
    {
     "data": {
      "text/plain": [
       "153"
      ]
     },
     "execution_count": 11,
     "metadata": {},
     "output_type": "execute_result"
    }
   ],
   "source": [
    "len(comparison_list)"
   ]
  },
  {
   "cell_type": "code",
   "execution_count": 12,
   "id": "caring-collaboration",
   "metadata": {
    "execution": {
     "iopub.execute_input": "2023-07-11T14:33:25.042784Z",
     "iopub.status.busy": "2023-07-11T14:33:25.042556Z",
     "iopub.status.idle": "2023-07-11T14:33:25.047371Z",
     "shell.execute_reply": "2023-07-11T14:33:25.046884Z"
    }
   },
   "outputs": [
    {
     "name": "stdout",
     "output_type": "stream",
     "text": [
      "(153, 9)\n"
     ]
    }
   ],
   "source": [
    "# Create a new DataFrame\n",
    "columns = [x + \"_1\" for x in selected_columns ] + [x + \"_2\" for x in selected_columns ]\n",
    "testing = pd.DataFrame(comparison_list, columns=columns)\n",
    "\n",
    "# Add the db_type column \n",
    "testing['db_type'] = ['XM'] * testing.shape[0]\n",
    "print(testing.shape)"
   ]
  },
  {
   "cell_type": "code",
   "execution_count": 13,
   "id": "dirty-rebecca",
   "metadata": {
    "execution": {
     "iopub.execute_input": "2023-07-11T14:33:25.048713Z",
     "iopub.status.busy": "2023-07-11T14:33:25.048600Z",
     "iopub.status.idle": "2023-07-11T14:33:25.052465Z",
     "shell.execute_reply": "2023-07-11T14:33:25.052117Z"
    }
   },
   "outputs": [
    {
     "name": "stdout",
     "output_type": "stream",
     "text": [
      "(153, 9)\n"
     ]
    }
   ],
   "source": [
    "# Sort the rows\n",
    "testing.sort_values(by=['idb_path_1', 'fva_1', 'idb_path_2', 'fva_2'], inplace=True)\n",
    "testing.reset_index(inplace=True, drop=True)\n",
    "print(testing.shape)"
   ]
  },
  {
   "cell_type": "code",
   "execution_count": 14,
   "id": "specialized-lemon",
   "metadata": {
    "execution": {
     "iopub.execute_input": "2023-07-11T14:33:25.053621Z",
     "iopub.status.busy": "2023-07-11T14:33:25.053507Z",
     "iopub.status.idle": "2023-07-11T14:33:25.064365Z",
     "shell.execute_reply": "2023-07-11T14:33:25.063951Z"
    }
   },
   "outputs": [
    {
     "name": "stdout",
     "output_type": "stream",
     "text": [
      "MATCH!\n",
      "idb_path_1                              IDBs/Dataset-Muaz/curl.i64\n",
      "fva_1                                                      0x1ba7a\n",
      "func_name_1                                                  notef\n",
      "hashopcodes_1    33bccf5039d336dce50f0dbc3dba165e74eaf31508ce82...\n",
      "idb_path_2                              IDBs/Dataset-Muaz/curl.i64\n",
      "fva_2                                                      0x1ba7a\n",
      "func_name_2                                                  notef\n",
      "hashopcodes_2    33bccf5039d336dce50f0dbc3dba165e74eaf31508ce82...\n",
      "db_type                                                         XM\n",
      "Name: 0, dtype: object\n",
      "MATCH!\n",
      "idb_path_1                              IDBs/Dataset-Muaz/curl.i64\n",
      "fva_1                                                      0x1ba7a\n",
      "func_name_1                                                  notef\n",
      "hashopcodes_1    33bccf5039d336dce50f0dbc3dba165e74eaf31508ce82...\n",
      "idb_path_2                              IDBs/Dataset-Muaz/curl.i64\n",
      "fva_2                                                      0x1ba7a\n",
      "func_name_2                                                  notef\n",
      "hashopcodes_2    33bccf5039d336dce50f0dbc3dba165e74eaf31508ce82...\n",
      "db_type                                                         XM\n",
      "Name: 1, dtype: object\n",
      "MATCH!\n",
      "idb_path_1                              IDBs/Dataset-Muaz/curl.i64\n",
      "fva_1                                                      0x1ba7a\n",
      "func_name_1                                                  notef\n",
      "hashopcodes_1    33bccf5039d336dce50f0dbc3dba165e74eaf31508ce82...\n",
      "idb_path_2                              IDBs/Dataset-Muaz/curl.i64\n",
      "fva_2                                                      0x1ba7a\n",
      "func_name_2                                                  notef\n",
      "hashopcodes_2    33bccf5039d336dce50f0dbc3dba165e74eaf31508ce82...\n",
      "db_type                                                         XM\n",
      "Name: 2, dtype: object\n",
      "MATCH!\n",
      "idb_path_1                              IDBs/Dataset-Muaz/curl.i64\n",
      "fva_1                                                      0x1ba7a\n",
      "func_name_1                                                  notef\n",
      "hashopcodes_1    33bccf5039d336dce50f0dbc3dba165e74eaf31508ce82...\n",
      "idb_path_2                          IDBs/Dataset-Muaz/curl_obf.i64\n",
      "fva_2                                                      0x1baa9\n",
      "func_name_2                                                  notef\n",
      "hashopcodes_2    33bccf5039d336dce50f0dbc3dba165e74eaf31508ce82...\n",
      "db_type                                                         XM\n",
      "Name: 8, dtype: object\n",
      "MATCH!\n",
      "idb_path_1                              IDBs/Dataset-Muaz/curl.i64\n",
      "fva_1                                                       0xb9fd\n",
      "func_name_1                                        slist_wc_append\n",
      "hashopcodes_1    a3e355a7e43da05f3b4cbbe18ead8fc0eef63aa2f552b7...\n",
      "idb_path_2                              IDBs/Dataset-Muaz/curl.i64\n",
      "fva_2                                                       0xb9fd\n",
      "func_name_2                                        slist_wc_append\n",
      "hashopcodes_2    a3e355a7e43da05f3b4cbbe18ead8fc0eef63aa2f552b7...\n",
      "db_type                                                         XM\n",
      "Name: 24, dtype: object\n",
      "MATCH!\n",
      "idb_path_1                              IDBs/Dataset-Muaz/curl.i64\n",
      "fva_1                                                       0xb9fd\n",
      "func_name_1                                        slist_wc_append\n",
      "hashopcodes_1    a3e355a7e43da05f3b4cbbe18ead8fc0eef63aa2f552b7...\n",
      "idb_path_2                              IDBs/Dataset-Muaz/curl.i64\n",
      "fva_2                                                       0xb9fd\n",
      "func_name_2                                        slist_wc_append\n",
      "hashopcodes_2    a3e355a7e43da05f3b4cbbe18ead8fc0eef63aa2f552b7...\n",
      "db_type                                                         XM\n",
      "Name: 25, dtype: object\n",
      "MATCH!\n",
      "idb_path_1                              IDBs/Dataset-Muaz/curl.i64\n",
      "fva_1                                                       0xb9fd\n",
      "func_name_1                                        slist_wc_append\n",
      "hashopcodes_1    a3e355a7e43da05f3b4cbbe18ead8fc0eef63aa2f552b7...\n",
      "idb_path_2                              IDBs/Dataset-Muaz/curl.i64\n",
      "fva_2                                                       0xb9fd\n",
      "func_name_2                                        slist_wc_append\n",
      "hashopcodes_2    a3e355a7e43da05f3b4cbbe18ead8fc0eef63aa2f552b7...\n",
      "db_type                                                         XM\n",
      "Name: 26, dtype: object\n",
      "MATCH!\n",
      "idb_path_1                          IDBs/Dataset-Muaz/curl_obf.i64\n",
      "fva_1                                                      0x1baa9\n",
      "func_name_1                                                  notef\n",
      "hashopcodes_1    33bccf5039d336dce50f0dbc3dba165e74eaf31508ce82...\n",
      "idb_path_2                              IDBs/Dataset-Muaz/curl.i64\n",
      "fva_2                                                      0x1ba7a\n",
      "func_name_2                                                  notef\n",
      "hashopcodes_2    33bccf5039d336dce50f0dbc3dba165e74eaf31508ce82...\n",
      "db_type                                                         XM\n",
      "Name: 41, dtype: object\n",
      "MATCH!\n",
      "idb_path_1                          IDBs/Dataset-Muaz/curl_obf.i64\n",
      "fva_1                                                      0x1baa9\n",
      "func_name_1                                                  notef\n",
      "hashopcodes_1    33bccf5039d336dce50f0dbc3dba165e74eaf31508ce82...\n",
      "idb_path_2                              IDBs/Dataset-Muaz/curl.i64\n",
      "fva_2                                                      0x1ba7a\n",
      "func_name_2                                                  notef\n",
      "hashopcodes_2    33bccf5039d336dce50f0dbc3dba165e74eaf31508ce82...\n",
      "db_type                                                         XM\n",
      "Name: 42, dtype: object\n",
      "MATCH!\n",
      "idb_path_1                          IDBs/Dataset-Muaz/curl_obf.i64\n",
      "fva_1                                                      0x1baa9\n",
      "func_name_1                                                  notef\n",
      "hashopcodes_1    33bccf5039d336dce50f0dbc3dba165e74eaf31508ce82...\n",
      "idb_path_2                              IDBs/Dataset-Muaz/curl.i64\n",
      "fva_2                                                      0x1ba7a\n",
      "func_name_2                                                  notef\n",
      "hashopcodes_2    33bccf5039d336dce50f0dbc3dba165e74eaf31508ce82...\n",
      "db_type                                                         XM\n",
      "Name: 43, dtype: object\n",
      "MATCH!\n",
      "idb_path_1                          IDBs/Dataset-Muaz/curl_obf.i64\n",
      "fva_1                                                      0x1baa9\n",
      "func_name_1                                                  notef\n",
      "hashopcodes_1    33bccf5039d336dce50f0dbc3dba165e74eaf31508ce82...\n",
      "idb_path_2                              IDBs/Dataset-Muaz/curl.i64\n",
      "fva_2                                                      0x1ba7a\n",
      "func_name_2                                                  notef\n",
      "hashopcodes_2    33bccf5039d336dce50f0dbc3dba165e74eaf31508ce82...\n",
      "db_type                                                         XM\n",
      "Name: 44, dtype: object\n",
      "MATCH!\n",
      "idb_path_1                          IDBs/Dataset-Muaz/curl_obf.i64\n",
      "fva_1                                                      0x1baa9\n",
      "func_name_1                                                  notef\n",
      "hashopcodes_1    33bccf5039d336dce50f0dbc3dba165e74eaf31508ce82...\n",
      "idb_path_2                              IDBs/Dataset-Muaz/curl.i64\n",
      "fva_2                                                      0x1ba7a\n",
      "func_name_2                                                  notef\n",
      "hashopcodes_2    33bccf5039d336dce50f0dbc3dba165e74eaf31508ce82...\n",
      "db_type                                                         XM\n",
      "Name: 45, dtype: object\n",
      "MATCH!\n",
      "idb_path_1                          IDBs/Dataset-Muaz/curl_obf.i64\n",
      "fva_1                                                      0x1baa9\n",
      "func_name_1                                                  notef\n",
      "hashopcodes_1    33bccf5039d336dce50f0dbc3dba165e74eaf31508ce82...\n",
      "idb_path_2                          IDBs/Dataset-Muaz/curl_obf.i64\n",
      "fva_2                                                      0x1baa9\n",
      "func_name_2                                                  notef\n",
      "hashopcodes_2    33bccf5039d336dce50f0dbc3dba165e74eaf31508ce82...\n",
      "db_type                                                         XM\n",
      "Name: 53, dtype: object\n",
      "MATCH!\n",
      "idb_path_1                          IDBs/Dataset-Muaz/curl_obf.i64\n",
      "fva_1                                                       0xb9fd\n",
      "func_name_1                                        slist_wc_append\n",
      "hashopcodes_1    cf0234cd3b90644eaeab212ffc09feeb69fa4e56985747...\n",
      "idb_path_2                          IDBs/Dataset-Muaz/curl_obf.i64\n",
      "fva_2                                                       0xb9fd\n",
      "func_name_2                                        slist_wc_append\n",
      "hashopcodes_2    cf0234cd3b90644eaeab212ffc09feeb69fa4e56985747...\n",
      "db_type                                                         XM\n",
      "Name: 81, dtype: object\n",
      "MATCH!\n",
      "idb_path_1                          IDBs/Dataset-Muaz/curl_obf.i64\n",
      "fva_1                                                       0xb9fd\n",
      "func_name_1                                        slist_wc_append\n",
      "hashopcodes_1    cf0234cd3b90644eaeab212ffc09feeb69fa4e56985747...\n",
      "idb_path_2                          IDBs/Dataset-Muaz/curl_obf.i64\n",
      "fva_2                                                       0xb9fd\n",
      "func_name_2                                        slist_wc_append\n",
      "hashopcodes_2    cf0234cd3b90644eaeab212ffc09feeb69fa4e56985747...\n",
      "db_type                                                         XM\n",
      "Name: 82, dtype: object\n",
      "MATCH!\n",
      "idb_path_1                          IDBs/Dataset-Muaz/curl_obf.i64\n",
      "fva_1                                                       0xb9fd\n",
      "func_name_1                                        slist_wc_append\n",
      "hashopcodes_1    cf0234cd3b90644eaeab212ffc09feeb69fa4e56985747...\n",
      "idb_path_2                          IDBs/Dataset-Muaz/curl_obf.i64\n",
      "fva_2                                                       0xb9fd\n",
      "func_name_2                                        slist_wc_append\n",
      "hashopcodes_2    cf0234cd3b90644eaeab212ffc09feeb69fa4e56985747...\n",
      "db_type                                                         XM\n",
      "Name: 83, dtype: object\n",
      "MATCH!\n",
      "idb_path_1                           IDBs/Dataset-Muaz/openssl.i64\n",
      "fva_1                                                      0xb2fc5\n",
      "func_name_1                                      app_create_libctx\n",
      "hashopcodes_1    d4ed47d0accf584a0472dc820aee95df7291341a39dd74...\n",
      "idb_path_2                           IDBs/Dataset-Muaz/openssl.i64\n",
      "fva_2                                                      0xb2fc5\n",
      "func_name_2                                      app_create_libctx\n",
      "hashopcodes_2    d4ed47d0accf584a0472dc820aee95df7291341a39dd74...\n",
      "db_type                                                         XM\n",
      "Name: 114, dtype: object\n",
      "MATCH!\n",
      "idb_path_1                           IDBs/Dataset-Muaz/openssl.i64\n",
      "fva_1                                                      0xb2fc5\n",
      "func_name_1                                      app_create_libctx\n",
      "hashopcodes_1    d4ed47d0accf584a0472dc820aee95df7291341a39dd74...\n",
      "idb_path_2                           IDBs/Dataset-Muaz/openssl.i64\n",
      "fva_2                                                      0xb2fc5\n",
      "func_name_2                                      app_create_libctx\n",
      "hashopcodes_2    d4ed47d0accf584a0472dc820aee95df7291341a39dd74...\n",
      "db_type                                                         XM\n",
      "Name: 115, dtype: object\n",
      "MATCH!\n",
      "idb_path_1                           IDBs/Dataset-Muaz/openssl.i64\n",
      "fva_1                                                      0xb2fc5\n",
      "func_name_1                                      app_create_libctx\n",
      "hashopcodes_1    d4ed47d0accf584a0472dc820aee95df7291341a39dd74...\n",
      "idb_path_2                           IDBs/Dataset-Muaz/openssl.i64\n",
      "fva_2                                                      0xb2fc5\n",
      "func_name_2                                      app_create_libctx\n",
      "hashopcodes_2    d4ed47d0accf584a0472dc820aee95df7291341a39dd74...\n",
      "db_type                                                         XM\n",
      "Name: 116, dtype: object\n",
      "MATCH!\n",
      "idb_path_1                           IDBs/Dataset-Muaz/openssl.i64\n",
      "fva_1                                                      0xc5c77\n",
      "func_name_1                                ssl_srp_verify_param_cb\n",
      "hashopcodes_1    df990f329828536fdaee29c544ddbc5fae6407842325b9...\n",
      "idb_path_2                           IDBs/Dataset-Muaz/openssl.i64\n",
      "fva_2                                                      0xc5c77\n",
      "func_name_2                                ssl_srp_verify_param_cb\n",
      "hashopcodes_2    df990f329828536fdaee29c544ddbc5fae6407842325b9...\n",
      "db_type                                                         XM\n",
      "Name: 150, dtype: object\n",
      "MATCH!\n",
      "idb_path_1                           IDBs/Dataset-Muaz/openssl.i64\n",
      "fva_1                                                      0xc5c77\n",
      "func_name_1                                ssl_srp_verify_param_cb\n",
      "hashopcodes_1    df990f329828536fdaee29c544ddbc5fae6407842325b9...\n",
      "idb_path_2                           IDBs/Dataset-Muaz/openssl.i64\n",
      "fva_2                                                      0xc5c77\n",
      "func_name_2                                ssl_srp_verify_param_cb\n",
      "hashopcodes_2    df990f329828536fdaee29c544ddbc5fae6407842325b9...\n",
      "db_type                                                         XM\n",
      "Name: 151, dtype: object\n",
      "MATCH!\n",
      "idb_path_1                           IDBs/Dataset-Muaz/openssl.i64\n",
      "fva_1                                                      0xc5c77\n",
      "func_name_1                                ssl_srp_verify_param_cb\n",
      "hashopcodes_1    df990f329828536fdaee29c544ddbc5fae6407842325b9...\n",
      "idb_path_2                           IDBs/Dataset-Muaz/openssl.i64\n",
      "fva_2                                                      0xc5c77\n",
      "func_name_2                                ssl_srp_verify_param_cb\n",
      "hashopcodes_2    df990f329828536fdaee29c544ddbc5fae6407842325b9...\n",
      "db_type                                                         XM\n",
      "Name: 152, dtype: object\n"
     ]
    }
   ],
   "source": [
    "# Check that the hashopcodes of the functions to compare are different\n",
    "for i, row in testing.iterrows():\n",
    "    if row['hashopcodes_1'] == row['hashopcodes_2']:\n",
    "        print(\"MATCH!\")\n",
    "        print(row)"
   ]
  },
  {
   "cell_type": "code",
   "execution_count": 15,
   "id": "industrial-kitchen",
   "metadata": {
    "execution": {
     "iopub.execute_input": "2023-07-11T14:33:25.066625Z",
     "iopub.status.busy": "2023-07-11T14:33:25.066497Z",
     "iopub.status.idle": "2023-07-11T14:33:25.070248Z",
     "shell.execute_reply": "2023-07-11T14:33:25.069970Z"
    }
   },
   "outputs": [
    {
     "name": "stdout",
     "output_type": "stream",
     "text": [
      "(44, 9)\n"
     ]
    }
   ],
   "source": [
    "# Paranoid check\n",
    "testing.drop_duplicates(inplace=True)\n",
    "testing.reset_index(inplace=True, drop=True)\n",
    "print(testing.shape)"
   ]
  },
  {
   "cell_type": "code",
   "execution_count": 16,
   "id": "complimentary-discharge",
   "metadata": {
    "execution": {
     "iopub.execute_input": "2023-07-11T14:33:25.071679Z",
     "iopub.status.busy": "2023-07-11T14:33:25.071479Z",
     "iopub.status.idle": "2023-07-11T14:33:25.074098Z",
     "shell.execute_reply": "2023-07-11T14:33:25.073850Z"
    }
   },
   "outputs": [],
   "source": [
    "# Remove hashopcodes columns\n",
    "del testing['hashopcodes_1']\n",
    "del testing['hashopcodes_2']"
   ]
  },
  {
   "cell_type": "code",
   "execution_count": 17,
   "id": "offshore-clarity",
   "metadata": {
    "execution": {
     "iopub.execute_input": "2023-07-11T14:33:25.075531Z",
     "iopub.status.busy": "2023-07-11T14:33:25.075340Z",
     "iopub.status.idle": "2023-07-11T14:33:25.080972Z",
     "shell.execute_reply": "2023-07-11T14:33:25.080709Z"
    }
   },
   "outputs": [
    {
     "data": {
      "text/html": [
       "<div>\n",
       "<style scoped>\n",
       "    .dataframe tbody tr th:only-of-type {\n",
       "        vertical-align: middle;\n",
       "    }\n",
       "\n",
       "    .dataframe tbody tr th {\n",
       "        vertical-align: top;\n",
       "    }\n",
       "\n",
       "    .dataframe thead th {\n",
       "        text-align: right;\n",
       "    }\n",
       "</style>\n",
       "<table border=\"1\" class=\"dataframe\">\n",
       "  <thead>\n",
       "    <tr style=\"text-align: right;\">\n",
       "      <th></th>\n",
       "      <th>idb_path_1</th>\n",
       "      <th>fva_1</th>\n",
       "      <th>func_name_1</th>\n",
       "      <th>idb_path_2</th>\n",
       "      <th>fva_2</th>\n",
       "      <th>func_name_2</th>\n",
       "      <th>db_type</th>\n",
       "    </tr>\n",
       "  </thead>\n",
       "  <tbody>\n",
       "    <tr>\n",
       "      <th>0</th>\n",
       "      <td>IDBs/Dataset-Muaz/curl.i64</td>\n",
       "      <td>0x1ba7a</td>\n",
       "      <td>notef</td>\n",
       "      <td>IDBs/Dataset-Muaz/curl.i64</td>\n",
       "      <td>0x1ba7a</td>\n",
       "      <td>notef</td>\n",
       "      <td>XM</td>\n",
       "    </tr>\n",
       "    <tr>\n",
       "      <th>1</th>\n",
       "      <td>IDBs/Dataset-Muaz/curl.i64</td>\n",
       "      <td>0x1ba7a</td>\n",
       "      <td>notef</td>\n",
       "      <td>IDBs/Dataset-Muaz/curl.i64</td>\n",
       "      <td>0xb9fd</td>\n",
       "      <td>slist_wc_append</td>\n",
       "      <td>XM</td>\n",
       "    </tr>\n",
       "    <tr>\n",
       "      <th>2</th>\n",
       "      <td>IDBs/Dataset-Muaz/curl.i64</td>\n",
       "      <td>0x1ba7a</td>\n",
       "      <td>notef</td>\n",
       "      <td>IDBs/Dataset-Muaz/curl_obf.i64</td>\n",
       "      <td>0x1baa4</td>\n",
       "      <td>notef</td>\n",
       "      <td>XM</td>\n",
       "    </tr>\n",
       "    <tr>\n",
       "      <th>3</th>\n",
       "      <td>IDBs/Dataset-Muaz/curl.i64</td>\n",
       "      <td>0x1ba7a</td>\n",
       "      <td>notef</td>\n",
       "      <td>IDBs/Dataset-Muaz/curl_obf.i64</td>\n",
       "      <td>0x1baa9</td>\n",
       "      <td>notef</td>\n",
       "      <td>XM</td>\n",
       "    </tr>\n",
       "    <tr>\n",
       "      <th>4</th>\n",
       "      <td>IDBs/Dataset-Muaz/curl.i64</td>\n",
       "      <td>0x1ba7a</td>\n",
       "      <td>notef</td>\n",
       "      <td>IDBs/Dataset-Muaz/curl_obf.i64</td>\n",
       "      <td>0xb9fd</td>\n",
       "      <td>slist_wc_append</td>\n",
       "      <td>XM</td>\n",
       "    </tr>\n",
       "  </tbody>\n",
       "</table>\n",
       "</div>"
      ],
      "text/plain": [
       "                   idb_path_1    fva_1 func_name_1  \\\n",
       "0  IDBs/Dataset-Muaz/curl.i64  0x1ba7a       notef   \n",
       "1  IDBs/Dataset-Muaz/curl.i64  0x1ba7a       notef   \n",
       "2  IDBs/Dataset-Muaz/curl.i64  0x1ba7a       notef   \n",
       "3  IDBs/Dataset-Muaz/curl.i64  0x1ba7a       notef   \n",
       "4  IDBs/Dataset-Muaz/curl.i64  0x1ba7a       notef   \n",
       "\n",
       "                       idb_path_2    fva_2      func_name_2 db_type  \n",
       "0      IDBs/Dataset-Muaz/curl.i64  0x1ba7a            notef      XM  \n",
       "1      IDBs/Dataset-Muaz/curl.i64   0xb9fd  slist_wc_append      XM  \n",
       "2  IDBs/Dataset-Muaz/curl_obf.i64  0x1baa4            notef      XM  \n",
       "3  IDBs/Dataset-Muaz/curl_obf.i64  0x1baa9            notef      XM  \n",
       "4  IDBs/Dataset-Muaz/curl_obf.i64   0xb9fd  slist_wc_append      XM  "
      ]
     },
     "execution_count": 17,
     "metadata": {},
     "output_type": "execute_result"
    }
   ],
   "source": [
    "testing.head()"
   ]
  },
  {
   "cell_type": "code",
   "execution_count": 18,
   "id": "variable-haven",
   "metadata": {
    "execution": {
     "iopub.execute_input": "2023-07-11T14:33:25.082438Z",
     "iopub.status.busy": "2023-07-11T14:33:25.082276Z",
     "iopub.status.idle": "2023-07-11T14:33:25.086563Z",
     "shell.execute_reply": "2023-07-11T14:33:25.086306Z"
    }
   },
   "outputs": [
    {
     "data": {
      "text/html": [
       "<div>\n",
       "<style scoped>\n",
       "    .dataframe tbody tr th:only-of-type {\n",
       "        vertical-align: middle;\n",
       "    }\n",
       "\n",
       "    .dataframe tbody tr th {\n",
       "        vertical-align: top;\n",
       "    }\n",
       "\n",
       "    .dataframe thead th {\n",
       "        text-align: right;\n",
       "    }\n",
       "</style>\n",
       "<table border=\"1\" class=\"dataframe\">\n",
       "  <thead>\n",
       "    <tr style=\"text-align: right;\">\n",
       "      <th></th>\n",
       "      <th>idb_path_1</th>\n",
       "      <th>fva_1</th>\n",
       "      <th>func_name_1</th>\n",
       "      <th>idb_path_2</th>\n",
       "      <th>fva_2</th>\n",
       "      <th>func_name_2</th>\n",
       "      <th>db_type</th>\n",
       "    </tr>\n",
       "  </thead>\n",
       "  <tbody>\n",
       "    <tr>\n",
       "      <th>39</th>\n",
       "      <td>IDBs/Dataset-Muaz/openssl.i64</td>\n",
       "      <td>0xc5c77</td>\n",
       "      <td>ssl_srp_verify_param_cb</td>\n",
       "      <td>IDBs/Dataset-Muaz/curl_obf.i64</td>\n",
       "      <td>0x1baa4</td>\n",
       "      <td>notef</td>\n",
       "      <td>XM</td>\n",
       "    </tr>\n",
       "    <tr>\n",
       "      <th>40</th>\n",
       "      <td>IDBs/Dataset-Muaz/openssl.i64</td>\n",
       "      <td>0xc5c77</td>\n",
       "      <td>ssl_srp_verify_param_cb</td>\n",
       "      <td>IDBs/Dataset-Muaz/curl_obf.i64</td>\n",
       "      <td>0x1baa9</td>\n",
       "      <td>notef</td>\n",
       "      <td>XM</td>\n",
       "    </tr>\n",
       "    <tr>\n",
       "      <th>41</th>\n",
       "      <td>IDBs/Dataset-Muaz/openssl.i64</td>\n",
       "      <td>0xc5c77</td>\n",
       "      <td>ssl_srp_verify_param_cb</td>\n",
       "      <td>IDBs/Dataset-Muaz/curl_obf.i64</td>\n",
       "      <td>0xb9fd</td>\n",
       "      <td>slist_wc_append</td>\n",
       "      <td>XM</td>\n",
       "    </tr>\n",
       "    <tr>\n",
       "      <th>42</th>\n",
       "      <td>IDBs/Dataset-Muaz/openssl.i64</td>\n",
       "      <td>0xc5c77</td>\n",
       "      <td>ssl_srp_verify_param_cb</td>\n",
       "      <td>IDBs/Dataset-Muaz/openssl.i64</td>\n",
       "      <td>0xb2fc5</td>\n",
       "      <td>app_create_libctx</td>\n",
       "      <td>XM</td>\n",
       "    </tr>\n",
       "    <tr>\n",
       "      <th>43</th>\n",
       "      <td>IDBs/Dataset-Muaz/openssl.i64</td>\n",
       "      <td>0xc5c77</td>\n",
       "      <td>ssl_srp_verify_param_cb</td>\n",
       "      <td>IDBs/Dataset-Muaz/openssl.i64</td>\n",
       "      <td>0xc5c77</td>\n",
       "      <td>ssl_srp_verify_param_cb</td>\n",
       "      <td>XM</td>\n",
       "    </tr>\n",
       "  </tbody>\n",
       "</table>\n",
       "</div>"
      ],
      "text/plain": [
       "                       idb_path_1    fva_1              func_name_1  \\\n",
       "39  IDBs/Dataset-Muaz/openssl.i64  0xc5c77  ssl_srp_verify_param_cb   \n",
       "40  IDBs/Dataset-Muaz/openssl.i64  0xc5c77  ssl_srp_verify_param_cb   \n",
       "41  IDBs/Dataset-Muaz/openssl.i64  0xc5c77  ssl_srp_verify_param_cb   \n",
       "42  IDBs/Dataset-Muaz/openssl.i64  0xc5c77  ssl_srp_verify_param_cb   \n",
       "43  IDBs/Dataset-Muaz/openssl.i64  0xc5c77  ssl_srp_verify_param_cb   \n",
       "\n",
       "                        idb_path_2    fva_2              func_name_2 db_type  \n",
       "39  IDBs/Dataset-Muaz/curl_obf.i64  0x1baa4                    notef      XM  \n",
       "40  IDBs/Dataset-Muaz/curl_obf.i64  0x1baa9                    notef      XM  \n",
       "41  IDBs/Dataset-Muaz/curl_obf.i64   0xb9fd          slist_wc_append      XM  \n",
       "42   IDBs/Dataset-Muaz/openssl.i64  0xb2fc5        app_create_libctx      XM  \n",
       "43   IDBs/Dataset-Muaz/openssl.i64  0xc5c77  ssl_srp_verify_param_cb      XM  "
      ]
     },
     "execution_count": 18,
     "metadata": {},
     "output_type": "execute_result"
    }
   ],
   "source": [
    "testing.tail()"
   ]
  },
  {
   "cell_type": "code",
   "execution_count": 19,
   "id": "distinct-european",
   "metadata": {
    "execution": {
     "iopub.execute_input": "2023-07-11T14:33:25.088467Z",
     "iopub.status.busy": "2023-07-11T14:33:25.088302Z",
     "iopub.status.idle": "2023-07-11T14:33:25.093176Z",
     "shell.execute_reply": "2023-07-11T14:33:25.092927Z"
    }
   },
   "outputs": [
    {
     "data": {
      "text/html": [
       "<div>\n",
       "<style scoped>\n",
       "    .dataframe tbody tr th:only-of-type {\n",
       "        vertical-align: middle;\n",
       "    }\n",
       "\n",
       "    .dataframe tbody tr th {\n",
       "        vertical-align: top;\n",
       "    }\n",
       "\n",
       "    .dataframe thead th {\n",
       "        text-align: right;\n",
       "    }\n",
       "</style>\n",
       "<table border=\"1\" class=\"dataframe\">\n",
       "  <thead>\n",
       "    <tr style=\"text-align: right;\">\n",
       "      <th></th>\n",
       "      <th></th>\n",
       "      <th>fva_1</th>\n",
       "      <th>idb_path_2</th>\n",
       "      <th>fva_2</th>\n",
       "      <th>func_name_2</th>\n",
       "      <th>db_type</th>\n",
       "    </tr>\n",
       "    <tr>\n",
       "      <th>idb_path_1</th>\n",
       "      <th>func_name_1</th>\n",
       "      <th></th>\n",
       "      <th></th>\n",
       "      <th></th>\n",
       "      <th></th>\n",
       "      <th></th>\n",
       "    </tr>\n",
       "  </thead>\n",
       "  <tbody>\n",
       "    <tr>\n",
       "      <th rowspan=\"2\" valign=\"top\">IDBs/Dataset-Muaz/curl.i64</th>\n",
       "      <th>notef</th>\n",
       "      <td>7</td>\n",
       "      <td>7</td>\n",
       "      <td>7</td>\n",
       "      <td>7</td>\n",
       "      <td>7</td>\n",
       "    </tr>\n",
       "    <tr>\n",
       "      <th>slist_wc_append</th>\n",
       "      <td>7</td>\n",
       "      <td>7</td>\n",
       "      <td>7</td>\n",
       "      <td>7</td>\n",
       "      <td>7</td>\n",
       "    </tr>\n",
       "    <tr>\n",
       "      <th rowspan=\"2\" valign=\"top\">IDBs/Dataset-Muaz/curl_obf.i64</th>\n",
       "      <th>notef</th>\n",
       "      <td>9</td>\n",
       "      <td>9</td>\n",
       "      <td>9</td>\n",
       "      <td>9</td>\n",
       "      <td>9</td>\n",
       "    </tr>\n",
       "    <tr>\n",
       "      <th>slist_wc_append</th>\n",
       "      <td>7</td>\n",
       "      <td>7</td>\n",
       "      <td>7</td>\n",
       "      <td>7</td>\n",
       "      <td>7</td>\n",
       "    </tr>\n",
       "    <tr>\n",
       "      <th rowspan=\"2\" valign=\"top\">IDBs/Dataset-Muaz/openssl.i64</th>\n",
       "      <th>app_create_libctx</th>\n",
       "      <td>7</td>\n",
       "      <td>7</td>\n",
       "      <td>7</td>\n",
       "      <td>7</td>\n",
       "      <td>7</td>\n",
       "    </tr>\n",
       "    <tr>\n",
       "      <th>ssl_srp_verify_param_cb</th>\n",
       "      <td>7</td>\n",
       "      <td>7</td>\n",
       "      <td>7</td>\n",
       "      <td>7</td>\n",
       "      <td>7</td>\n",
       "    </tr>\n",
       "  </tbody>\n",
       "</table>\n",
       "</div>"
      ],
      "text/plain": [
       "                                                        fva_1  idb_path_2  \\\n",
       "idb_path_1                     func_name_1                                  \n",
       "IDBs/Dataset-Muaz/curl.i64     notef                        7           7   \n",
       "                               slist_wc_append              7           7   \n",
       "IDBs/Dataset-Muaz/curl_obf.i64 notef                        9           9   \n",
       "                               slist_wc_append              7           7   \n",
       "IDBs/Dataset-Muaz/openssl.i64  app_create_libctx            7           7   \n",
       "                               ssl_srp_verify_param_cb      7           7   \n",
       "\n",
       "                                                        fva_2  func_name_2  \\\n",
       "idb_path_1                     func_name_1                                   \n",
       "IDBs/Dataset-Muaz/curl.i64     notef                        7            7   \n",
       "                               slist_wc_append              7            7   \n",
       "IDBs/Dataset-Muaz/curl_obf.i64 notef                        9            9   \n",
       "                               slist_wc_append              7            7   \n",
       "IDBs/Dataset-Muaz/openssl.i64  app_create_libctx            7            7   \n",
       "                               ssl_srp_verify_param_cb      7            7   \n",
       "\n",
       "                                                        db_type  \n",
       "idb_path_1                     func_name_1                       \n",
       "IDBs/Dataset-Muaz/curl.i64     notef                          7  \n",
       "                               slist_wc_append                7  \n",
       "IDBs/Dataset-Muaz/curl_obf.i64 notef                          9  \n",
       "                               slist_wc_append                7  \n",
       "IDBs/Dataset-Muaz/openssl.i64  app_create_libctx              7  \n",
       "                               ssl_srp_verify_param_cb        7  "
      ]
     },
     "execution_count": 19,
     "metadata": {},
     "output_type": "execute_result"
    }
   ],
   "source": [
    "testing.groupby(['idb_path_1', 'func_name_1']).count()"
   ]
  },
  {
   "cell_type": "code",
   "execution_count": 20,
   "id": "metropolitan-grain",
   "metadata": {
    "execution": {
     "iopub.execute_input": "2023-07-11T14:33:25.094931Z",
     "iopub.status.busy": "2023-07-11T14:33:25.094768Z",
     "iopub.status.idle": "2023-07-11T14:33:25.099232Z",
     "shell.execute_reply": "2023-07-11T14:33:25.098947Z"
    }
   },
   "outputs": [
    {
     "data": {
      "text/html": [
       "<div>\n",
       "<style scoped>\n",
       "    .dataframe tbody tr th:only-of-type {\n",
       "        vertical-align: middle;\n",
       "    }\n",
       "\n",
       "    .dataframe tbody tr th {\n",
       "        vertical-align: top;\n",
       "    }\n",
       "\n",
       "    .dataframe thead th {\n",
       "        text-align: right;\n",
       "    }\n",
       "</style>\n",
       "<table border=\"1\" class=\"dataframe\">\n",
       "  <thead>\n",
       "    <tr style=\"text-align: right;\">\n",
       "      <th></th>\n",
       "      <th>fva_1</th>\n",
       "      <th>func_name_1</th>\n",
       "      <th>idb_path_2</th>\n",
       "      <th>fva_2</th>\n",
       "      <th>func_name_2</th>\n",
       "      <th>db_type</th>\n",
       "    </tr>\n",
       "    <tr>\n",
       "      <th>idb_path_1</th>\n",
       "      <th></th>\n",
       "      <th></th>\n",
       "      <th></th>\n",
       "      <th></th>\n",
       "      <th></th>\n",
       "      <th></th>\n",
       "    </tr>\n",
       "  </thead>\n",
       "  <tbody>\n",
       "    <tr>\n",
       "      <th>IDBs/Dataset-Muaz/curl.i64</th>\n",
       "      <td>14</td>\n",
       "      <td>14</td>\n",
       "      <td>14</td>\n",
       "      <td>14</td>\n",
       "      <td>14</td>\n",
       "      <td>14</td>\n",
       "    </tr>\n",
       "    <tr>\n",
       "      <th>IDBs/Dataset-Muaz/curl_obf.i64</th>\n",
       "      <td>16</td>\n",
       "      <td>16</td>\n",
       "      <td>16</td>\n",
       "      <td>16</td>\n",
       "      <td>16</td>\n",
       "      <td>16</td>\n",
       "    </tr>\n",
       "    <tr>\n",
       "      <th>IDBs/Dataset-Muaz/openssl.i64</th>\n",
       "      <td>14</td>\n",
       "      <td>14</td>\n",
       "      <td>14</td>\n",
       "      <td>14</td>\n",
       "      <td>14</td>\n",
       "      <td>14</td>\n",
       "    </tr>\n",
       "  </tbody>\n",
       "</table>\n",
       "</div>"
      ],
      "text/plain": [
       "                                fva_1  func_name_1  idb_path_2  fva_2  \\\n",
       "idb_path_1                                                              \n",
       "IDBs/Dataset-Muaz/curl.i64         14           14          14     14   \n",
       "IDBs/Dataset-Muaz/curl_obf.i64     16           16          16     16   \n",
       "IDBs/Dataset-Muaz/openssl.i64      14           14          14     14   \n",
       "\n",
       "                                func_name_2  db_type  \n",
       "idb_path_1                                            \n",
       "IDBs/Dataset-Muaz/curl.i64               14       14  \n",
       "IDBs/Dataset-Muaz/curl_obf.i64           16       16  \n",
       "IDBs/Dataset-Muaz/openssl.i64            14       14  "
      ]
     },
     "execution_count": 20,
     "metadata": {},
     "output_type": "execute_result"
    }
   ],
   "source": [
    "testing.groupby(['idb_path_1']).count()"
   ]
  },
  {
   "cell_type": "code",
   "execution_count": 21,
   "id": "assumed-artwork",
   "metadata": {
    "execution": {
     "iopub.execute_input": "2023-07-11T14:33:25.101009Z",
     "iopub.status.busy": "2023-07-11T14:33:25.100506Z",
     "iopub.status.idle": "2023-07-11T14:33:25.105993Z",
     "shell.execute_reply": "2023-07-11T14:33:25.105717Z"
    }
   },
   "outputs": [
    {
     "data": {
      "text/html": [
       "<div>\n",
       "<style scoped>\n",
       "    .dataframe tbody tr th:only-of-type {\n",
       "        vertical-align: middle;\n",
       "    }\n",
       "\n",
       "    .dataframe tbody tr th {\n",
       "        vertical-align: top;\n",
       "    }\n",
       "\n",
       "    .dataframe thead th {\n",
       "        text-align: right;\n",
       "    }\n",
       "</style>\n",
       "<table border=\"1\" class=\"dataframe\">\n",
       "  <thead>\n",
       "    <tr style=\"text-align: right;\">\n",
       "      <th></th>\n",
       "      <th>idb_path_1</th>\n",
       "      <th>fva_1</th>\n",
       "      <th>func_name_1</th>\n",
       "      <th>fva_2</th>\n",
       "      <th>func_name_2</th>\n",
       "      <th>db_type</th>\n",
       "    </tr>\n",
       "    <tr>\n",
       "      <th>idb_path_2</th>\n",
       "      <th></th>\n",
       "      <th></th>\n",
       "      <th></th>\n",
       "      <th></th>\n",
       "      <th></th>\n",
       "      <th></th>\n",
       "    </tr>\n",
       "  </thead>\n",
       "  <tbody>\n",
       "    <tr>\n",
       "      <th>IDBs/Dataset-Muaz/curl.i64</th>\n",
       "      <td>14</td>\n",
       "      <td>14</td>\n",
       "      <td>14</td>\n",
       "      <td>14</td>\n",
       "      <td>14</td>\n",
       "      <td>14</td>\n",
       "    </tr>\n",
       "    <tr>\n",
       "      <th>IDBs/Dataset-Muaz/curl_obf.i64</th>\n",
       "      <td>18</td>\n",
       "      <td>18</td>\n",
       "      <td>18</td>\n",
       "      <td>18</td>\n",
       "      <td>18</td>\n",
       "      <td>18</td>\n",
       "    </tr>\n",
       "    <tr>\n",
       "      <th>IDBs/Dataset-Muaz/openssl.i64</th>\n",
       "      <td>12</td>\n",
       "      <td>12</td>\n",
       "      <td>12</td>\n",
       "      <td>12</td>\n",
       "      <td>12</td>\n",
       "      <td>12</td>\n",
       "    </tr>\n",
       "  </tbody>\n",
       "</table>\n",
       "</div>"
      ],
      "text/plain": [
       "                                idb_path_1  fva_1  func_name_1  fva_2  \\\n",
       "idb_path_2                                                              \n",
       "IDBs/Dataset-Muaz/curl.i64              14     14           14     14   \n",
       "IDBs/Dataset-Muaz/curl_obf.i64          18     18           18     18   \n",
       "IDBs/Dataset-Muaz/openssl.i64           12     12           12     12   \n",
       "\n",
       "                                func_name_2  db_type  \n",
       "idb_path_2                                            \n",
       "IDBs/Dataset-Muaz/curl.i64               14       14  \n",
       "IDBs/Dataset-Muaz/curl_obf.i64           18       18  \n",
       "IDBs/Dataset-Muaz/openssl.i64            12       12  "
      ]
     },
     "execution_count": 21,
     "metadata": {},
     "output_type": "execute_result"
    }
   ],
   "source": [
    "testing.groupby(['idb_path_2']).count()"
   ]
  },
  {
   "cell_type": "code",
   "execution_count": 22,
   "id": "tested-denmark",
   "metadata": {
    "execution": {
     "iopub.execute_input": "2023-07-11T14:33:25.107826Z",
     "iopub.status.busy": "2023-07-11T14:33:25.107348Z",
     "iopub.status.idle": "2023-07-11T14:33:25.110688Z",
     "shell.execute_reply": "2023-07-11T14:33:25.110413Z"
    }
   },
   "outputs": [],
   "source": [
    "# Save the DataFrame to file\n",
    "testing.to_csv(\"../../DBs/Dataset-Muaz/pairs/pairs_testing_Dataset-Muaz.csv\")"
   ]
  },
  {
   "cell_type": "code",
   "execution_count": 23,
   "id": "suspected-absorption",
   "metadata": {
    "execution": {
     "iopub.execute_input": "2023-07-11T14:33:25.112589Z",
     "iopub.status.busy": "2023-07-11T14:33:25.112098Z",
     "iopub.status.idle": "2023-07-11T14:33:25.117961Z",
     "shell.execute_reply": "2023-07-11T14:33:25.117354Z"
    }
   },
   "outputs": [
    {
     "name": "stdout",
     "output_type": "stream",
     "text": [
      "Found 7 unique functions\n"
     ]
    }
   ],
   "source": [
    "# Save the \"selected functions\" to a JSON.\n",
    "# This is useful to limit the IDA analysis to some functions only.\n",
    "\n",
    "testing_functions = set([tuple(x) for x in testing[['idb_path_1', 'fva_1']].values])\n",
    "testing_functions |= set([tuple(x) for x in testing[['idb_path_2', 'fva_2']].values])\n",
    "print(\"Found {} unique functions\".format(len(testing_functions)))\n",
    "\n",
    "from collections import defaultdict\n",
    "selected_functions = defaultdict(list)\n",
    "for t in testing_functions:\n",
    "    selected_functions[t[0]].append(int(t[1], 16))\n",
    "\n",
    "# Test\n",
    "assert(sum([len(v) for v in selected_functions.values()]) == len(testing_functions))\n",
    "\n",
    "# Save to file\n",
    "with open(\"../../DBs/Dataset-Muaz/features/selected_Dataset-Muaz.json\", \"w\") as f_out:\n",
    "    json.dump(selected_functions, f_out)"
   ]
  },
  {
   "cell_type": "code",
   "execution_count": 24,
   "id": "standing-reflection",
   "metadata": {
    "execution": {
     "iopub.execute_input": "2023-07-11T14:33:25.119661Z",
     "iopub.status.busy": "2023-07-11T14:33:25.119372Z",
     "iopub.status.idle": "2023-07-11T14:33:25.186570Z",
     "shell.execute_reply": "2023-07-11T14:33:25.186293Z"
    }
   },
   "outputs": [
    {
     "name": "stdout",
     "output_type": "stream",
     "text": [
      "(18, 7)\n"
     ]
    }
   ],
   "source": [
    "# Save the \"selected functions\" to a CSV.\n",
    "# This will be useful to post-process the results.\n",
    "\n",
    "# Remove from flowchart the functions that are not used for the testing\n",
    "dataset = flowchart.copy()\n",
    "del dataset['bb_list']\n",
    "del_list = list()\n",
    "for i, row in dataset.iterrows():\n",
    "    if not tuple([row['idb_path'], row['fva']]) in testing_functions:\n",
    "        del_list.append(i)\n",
    "dataset.drop(del_list, inplace=True)\n",
    "dataset.reset_index(inplace=True, drop=True)\n",
    "print(dataset.shape)\n",
    "\n",
    "# Save to file\n",
    "dataset.to_csv(\"../../DBs/Dataset-Muaz/testing_Dataset-Muaz.csv\")"
   ]
  },
  {
   "cell_type": "code",
   "execution_count": null,
   "id": "9dd20a41",
   "metadata": {},
   "outputs": [],
   "source": []
  }
 ],
 "metadata": {
  "kernelspec": {
   "display_name": "Python 3 (ipykernel)",
   "language": "python",
   "name": "python3"
  },
  "language_info": {
   "codemirror_mode": {
    "name": "ipython",
    "version": 3
   },
   "file_extension": ".py",
   "mimetype": "text/x-python",
   "name": "python",
   "nbconvert_exporter": "python",
   "pygments_lexer": "ipython3",
   "version": "3.11.2"
  }
 },
 "nbformat": 4,
 "nbformat_minor": 5
}
